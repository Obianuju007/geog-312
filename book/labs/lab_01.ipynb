{
 "cells": [
  {
   "cell_type": "markdown",
   "id": "0",
   "metadata": {},
   "source": [
    "# Lab 1\n",
    "\n",
    "[![Open In Colab](https://colab.research.google.com/assets/colab-badge.svg)](https://colab.research.google.com/github/giswqs/geog-312/blob/main/book/labs/lab_01.ipynb)"
   ]
  },
  {
   "cell_type": "markdown",
   "id": "1",
   "metadata": {},
   "source": [
    "## Exercise 1: Variable Assignment and Basic Operations\n",
    "\n",
    "Create variables to store the following geospatial data:\n",
    "\n",
    "- The latitude and longitude of New York City: 40.7128, -74.0060.\n",
    "- The population of New York City: 8,336,817.\n",
    "- The area of New York City in square kilometers: 783.8.\n",
    "\n",
    "Perform the following tasks:\n",
    "\n",
    "1. Calculate and print the population density of New York City (population per square kilometer).\n",
    "2. Print the coordinates in the format \"Latitude: [latitude], Longitude: [longitude]\"."
   ]
  },
  {
   "cell_type": "code",
   "execution_count": 4,
   "id": "2",
   "metadata": {},
   "outputs": [],
   "source": [
    "ny = [40.7128, -74.0060]\n",
    "nyp = 8336817\n",
    "nya = 783.8"
   ]
  },
  {
   "cell_type": "code",
   "execution_count": 2,
   "id": "b709154f",
   "metadata": {},
   "outputs": [
    {
     "data": {
      "text/plain": [
       "10636.408522582293"
      ]
     },
     "execution_count": 2,
     "metadata": {},
     "output_type": "execute_result"
    }
   ],
   "source": [
    "pop_density = nyp/nya\n",
    "pop_density"
   ]
  },
  {
   "cell_type": "code",
   "execution_count": 7,
   "id": "4382412d",
   "metadata": {},
   "outputs": [
    {
     "name": "stdout",
     "output_type": "stream",
     "text": [
      "Latitude is 40.7128 Longitude is -74.006\n"
     ]
    }
   ],
   "source": [
    "print(\"Latitude is \" f\"{ny[0]}\", \"Longitude is \" f\"{ny[1]}\")"
   ]
  },
  {
   "cell_type": "markdown",
   "id": "3",
   "metadata": {},
   "source": [
    "## Exercise 2: Working with Strings\n",
    "\n",
    "Create a string variable to store the name of a city, such as \"San Francisco\". Perform the following operations:\n",
    "\n",
    "1. Convert the string to lowercase and print the result.\n",
    "2. Convert the string to uppercase and print the result.\n",
    "3. Replace \"San\" with \"Los\" in the city name and print the new string."
   ]
  },
  {
   "cell_type": "code",
   "execution_count": 15,
   "id": "4",
   "metadata": {},
   "outputs": [
    {
     "name": "stdout",
     "output_type": "stream",
     "text": [
      "lagos\n"
     ]
    }
   ],
   "source": [
    "newlist = 'Lagos'\n",
    "newlist = newlist.lower()\n",
    "print(newlist)"
   ]
  },
  {
   "cell_type": "markdown",
   "id": "5",
   "metadata": {},
   "source": [
    "## Exercise 3: Using Lists\n",
    "\n",
    "Create a list of tuples, where each tuple contains the name of a city and its corresponding latitude and longitude:\n",
    "\n",
    "- New York City: (40.7128, -74.0060)\n",
    "- Los Angeles: (34.0522, -118.2437)\n",
    "- Chicago: (41.8781, -87.6298)\n",
    "\n",
    "Perform the following tasks:\n",
    "\n",
    "1. Add a new city (e.g., Miami: (25.7617, -80.1918)) to the list.\n",
    "2. Print the entire list of cities.\n",
    "3. Slice the list to print only the first two cities."
   ]
  },
  {
   "cell_type": "code",
   "execution_count": 16,
   "id": "6",
   "metadata": {},
   "outputs": [
    {
     "data": {
      "text/plain": [
       "['New York City: (40.7128, -74.0060)',\n",
       " 'Los Angeles: (34.0522, -118.2437)',\n",
       " 'Chicago: (41.8781, 087.6298)']"
      ]
     },
     "execution_count": 16,
     "metadata": {},
     "output_type": "execute_result"
    }
   ],
   "source": [
    "cities = [('New York City: (40.7128, -74.0060)'), ('Los Angeles: (34.0522, -118.2437)'), ('Chicago: (41.8781, 087.6298)')]\n",
    "cities"
   ]
  },
  {
   "cell_type": "code",
   "execution_count": 17,
   "id": "ac0820e6",
   "metadata": {},
   "outputs": [
    {
     "data": {
      "text/plain": [
       "['New York City: (40.7128, -74.0060)',\n",
       " 'Los Angeles: (34.0522, -118.2437)',\n",
       " 'Chicago: (41.8781, 087.6298)',\n",
       " 'Miami: (25.7617, -80.1918)']"
      ]
     },
     "execution_count": 17,
     "metadata": {},
     "output_type": "execute_result"
    }
   ],
   "source": [
    "cities.append('Miami: (25.7617, -80.1918)')\n",
    "cities"
   ]
  },
  {
   "cell_type": "code",
   "execution_count": 18,
   "id": "50094f9f",
   "metadata": {},
   "outputs": [
    {
     "name": "stdout",
     "output_type": "stream",
     "text": [
      "['New York City: (40.7128, -74.0060)', 'Los Angeles: (34.0522, -118.2437)']\n"
     ]
    }
   ],
   "source": [
    "print(cities[:2])"
   ]
  },
  {
   "cell_type": "markdown",
   "id": "7",
   "metadata": {},
   "source": [
    "## Exercise 4: Using Tuples\n",
    "\n",
    "Create a tuple to store the coordinates (latitude, longitude) of the Eiffel Tower: (48.8584, 2.2945). Perform the following tasks:\n",
    "\n",
    "1. Access and print the latitude and longitude values from the tuple.\n",
    "2. Try to change the latitude value to 48.8585. What happens? Explain why."
   ]
  },
  {
   "cell_type": "code",
   "execution_count": 25,
   "id": "8",
   "metadata": {},
   "outputs": [
    {
     "name": "stdout",
     "output_type": "stream",
     "text": [
      "Latitude is 48.8584 and Longitude is 2.2945\n"
     ]
    }
   ],
   "source": [
    "etower = (48.8584, 2.2945)\n",
    "print (\"Latitude is \"f'{etower[0]}' \" and Longitude is \"f'{etower[1]}')"
   ]
  },
  {
   "cell_type": "code",
   "execution_count": null,
   "id": "391105e7",
   "metadata": {},
   "outputs": [],
   "source": [
    "# Tuples are immutable "
   ]
  },
  {
   "cell_type": "markdown",
   "id": "9",
   "metadata": {},
   "source": [
    "## Exercise 5: Working with Sets\n",
    "\n",
    "Create a set of countries you have visited, such as {\"USA\", \"France\", \"Germany\"}. Perform the following tasks:\n",
    "\n",
    "1. Add a new country to the set.\n",
    "2. Try to add the same country again. What happens?\n",
    "3. Print the updated set."
   ]
  },
  {
   "cell_type": "code",
   "execution_count": 26,
   "id": "10",
   "metadata": {},
   "outputs": [
    {
     "data": {
      "text/plain": [
       "{'France', 'Germany', 'USA'}"
      ]
     },
     "execution_count": 26,
     "metadata": {},
     "output_type": "execute_result"
    }
   ],
   "source": [
    "countries = {\"USA\", \"France\", \"Germany\"}\n",
    "countries"
   ]
  },
  {
   "cell_type": "code",
   "execution_count": null,
   "id": "40c31741",
   "metadata": {},
   "outputs": [],
   "source": [
    "# nothing will change because Sets are made up of uniques values."
   ]
  },
  {
   "cell_type": "markdown",
   "id": "11",
   "metadata": {},
   "source": [
    "## Exercise 6: Working with Dictionaries\n",
    "\n",
    "Create a dictionary to store information about a specific geospatial feature, such as a river:\n",
    "\n",
    "- Name: \"Amazon River\"\n",
    "- Length: 6400 km\n",
    "- Countries: [\"Brazil\", \"Peru\", \"Colombia\"]\n",
    "\n",
    "Perform the following tasks:\n",
    "\n",
    "1. Add a new key-value pair to the dictionary to store the river's average discharge (e.g., 209,000 m³/s).\n",
    "2. Update the length of the river to 6992 km.\n",
    "3. Print the dictionary."
   ]
  },
  {
   "cell_type": "code",
   "execution_count": 27,
   "id": "12",
   "metadata": {},
   "outputs": [
    {
     "data": {
      "text/plain": [
       "{'Name': 'Amazon River',\n",
       " 'Length': '6400km',\n",
       " 'Countries': ['Brazil', 'Peru', 'Colombia']}"
      ]
     },
     "execution_count": 27,
     "metadata": {},
     "output_type": "execute_result"
    }
   ],
   "source": [
    "newdict = {\"Name\": \"Amazon River\", \"Length\": \"6400km\", \"Countries\": [\"Brazil\", \"Peru\", \"Colombia\"]}\n",
    "newdict"
   ]
  },
  {
   "cell_type": "code",
   "execution_count": 29,
   "id": "de08a903",
   "metadata": {},
   "outputs": [
    {
     "data": {
      "text/plain": [
       "{'Name': 'Amazon River',\n",
       " 'Length': '6400km',\n",
       " 'Countries': ['Brazil', 'Peru', 'Colombia'],\n",
       " 'avgdisch': '209000m**3/s'}"
      ]
     },
     "execution_count": 29,
     "metadata": {},
     "output_type": "execute_result"
    }
   ],
   "source": [
    "newdict[\"avgdisch\"] = '209000m**3/s'\n",
    "newdict"
   ]
  },
  {
   "cell_type": "code",
   "execution_count": 96,
   "id": "ebce7e3e",
   "metadata": {},
   "outputs": [
    {
     "data": {
      "text/plain": [
       "{'Name': 'Amazon River',\n",
       " 'Length': '6992km',\n",
       " 'Countries': ['Brazil', 'Peru', 'Colombia'],\n",
       " 'avgdisch': '209000m**3/s'}"
      ]
     },
     "execution_count": 96,
     "metadata": {},
     "output_type": "execute_result"
    }
   ],
   "source": [
    "newdict[\"Length\"] = '6992km'\n",
    "newdict"
   ]
  },
  {
   "cell_type": "markdown",
   "id": "13",
   "metadata": {},
   "source": [
    "## Exercise 7: Nested Data Structures\n",
    "\n",
    "Create a dictionary to represent a city that contains the city's name, population, and coordinates (latitude, longitude):\n",
    "\n",
    "- Name: \"Tokyo\"\n",
    "- Population: 13,515,271\n",
    "- Coordinates: (35.6895, 139.6917)\n",
    "\n",
    "Perform the following tasks:\n",
    "\n",
    "1. Access and print the population of the city.\n",
    "2. Access and print the city's latitude.\n",
    "3. Update the population to 14,000,000 and print the updated dictionary."
   ]
  },
  {
   "cell_type": "code",
   "execution_count": 38,
   "id": "14",
   "metadata": {},
   "outputs": [
    {
     "name": "stdout",
     "output_type": "stream",
     "text": [
      "{'Name': 'Tokyo', 'Population': 13515271, 'Coordinates': (35.6895, 139.6917)}\n"
     ]
    }
   ],
   "source": [
    "city = {\"Name\": \"Tokyo\", \"Population\": 13515271, \"Coordinates\": (35.6895,139.6917)}\n",
    "\n",
    "print(city)"
   ]
  },
  {
   "cell_type": "code",
   "execution_count": 39,
   "id": "12f6fb5d",
   "metadata": {},
   "outputs": [
    {
     "name": "stdout",
     "output_type": "stream",
     "text": [
      "13515271\n"
     ]
    }
   ],
   "source": [
    "print(city[\"Population\"])"
   ]
  },
  {
   "cell_type": "code",
   "execution_count": 41,
   "id": "03380cd2",
   "metadata": {},
   "outputs": [
    {
     "name": "stdout",
     "output_type": "stream",
     "text": [
      "35.6895\n"
     ]
    }
   ],
   "source": [
    "print (city[\"Coordinates\"][0])"
   ]
  },
  {
   "cell_type": "markdown",
   "id": "15",
   "metadata": {},
   "source": [
    "## Exercise 8: List Operations\n",
    "\n",
    "Given the list of cities from Exercise 3, perform the following operations:\n",
    "\n",
    "1. Sort the list of cities alphabetically by name.\n",
    "2. Create a new list that contains only the city names.\n",
    "3. Remove the last city from the original list and print the updated list."
   ]
  },
  {
   "cell_type": "code",
   "execution_count": 67,
   "id": "16",
   "metadata": {},
   "outputs": [
    {
     "data": {
      "text/plain": [
       "['Chicago: (41.8781, 087.6298)',\n",
       " 'Los Angeles: (34.0522, -118.2437)',\n",
       " 'Miami: (25.7617, -80.1918)',\n",
       " 'New York City: (40.7128, -74.0060)']"
      ]
     },
     "execution_count": 67,
     "metadata": {},
     "output_type": "execute_result"
    }
   ],
   "source": [
    "cities_sorted = sorted(cities)\n",
    "cities_sorted"
   ]
  },
  {
   "cell_type": "code",
   "execution_count": 83,
   "id": "7df3eb47",
   "metadata": {},
   "outputs": [
    {
     "data": {
      "text/plain": [
       "['Chicago', 'Los Angeles', 'Miami', 'New York City']"
      ]
     },
     "execution_count": 83,
     "metadata": {},
     "output_type": "execute_result"
    }
   ],
   "source": [
    "newlist = [city.split(':')[0] for city in cities]\n",
    "newlist"
   ]
  },
  {
   "cell_type": "code",
   "execution_count": 81,
   "id": "0a342ea3",
   "metadata": {},
   "outputs": [
    {
     "data": {
      "text/plain": [
       "'New York City'"
      ]
     },
     "execution_count": 81,
     "metadata": {},
     "output_type": "execute_result"
    }
   ],
   "source": [
    "finallist = newlist.pop()\n",
    "finallist"
   ]
  },
  {
   "cell_type": "code",
   "execution_count": 84,
   "id": "b6cc7c63",
   "metadata": {},
   "outputs": [
    {
     "name": "stdout",
     "output_type": "stream",
     "text": [
      "['Chicago', 'Los Angeles', 'Miami']\n"
     ]
    }
   ],
   "source": [
    "# Sorting the list alphabetically\n",
    "newlist.pop()\n",
    "print(newlist)"
   ]
  },
  {
   "cell_type": "markdown",
   "id": "17",
   "metadata": {},
   "source": [
    "## Exercise 9: Dictionary Operations\n",
    "\n",
    "Using the dictionary from Exercise 6, perform the following tasks:\n",
    "\n",
    "1. Check if the key \"Length\" exists in the dictionary.\n",
    "2. Print all the keys in the dictionary.\n",
    "3. Print all the values in the dictionary."
   ]
  },
  {
   "cell_type": "code",
   "execution_count": 93,
   "id": "18",
   "metadata": {},
   "outputs": [
    {
     "name": "stdout",
     "output_type": "stream",
     "text": [
      "True\n"
     ]
    }
   ],
   "source": [
    "if 'Length' in newdict:\n",
    "    print ('True')"
   ]
  },
  {
   "cell_type": "code",
   "execution_count": 94,
   "id": "edbe1a43",
   "metadata": {},
   "outputs": [
    {
     "name": "stdout",
     "output_type": "stream",
     "text": [
      "dict_keys(['Name', 'Length', 'Countries', 'avgdisch'])\n"
     ]
    }
   ],
   "source": [
    "print(newdict.keys())"
   ]
  },
  {
   "cell_type": "code",
   "execution_count": 97,
   "id": "2eb6f4ce",
   "metadata": {},
   "outputs": [
    {
     "name": "stdout",
     "output_type": "stream",
     "text": [
      "dict_values(['Amazon River', '6992km', ['Brazil', 'Peru', 'Colombia'], '209000m**3/s'])\n"
     ]
    }
   ],
   "source": [
    "print(newdict.values())"
   ]
  },
  {
   "cell_type": "markdown",
   "id": "19",
   "metadata": {},
   "source": [
    "## Exercise 10: Practical Application\n",
    "\n",
    "Imagine you have a list of tuples, each representing a location with its name, latitude, and longitude:"
   ]
  },
  {
   "cell_type": "code",
   "execution_count": 98,
   "id": "20",
   "metadata": {},
   "outputs": [],
   "source": [
    "locations = [\n",
    "    (\"Mount Everest\", 27.9881, 86.9250),\n",
    "    (\"K2\", 35.8808, 76.5155),\n",
    "    (\"Kangchenjunga\", 27.7025, 88.1475),\n",
    "]"
   ]
  },
  {
   "cell_type": "markdown",
   "id": "21",
   "metadata": {},
   "source": [
    "Perform the following tasks:\n",
    "\n",
    "1. Create a new list that contains only the names of the locations.\n",
    "2. Create a dictionary where the keys are location names and the values are tuples of their coordinates.\n",
    "3. Print the latitude of \"K2\" using the dictionary."
   ]
  },
  {
   "cell_type": "code",
   "execution_count": 103,
   "id": "22",
   "metadata": {},
   "outputs": [
    {
     "name": "stdout",
     "output_type": "stream",
     "text": [
      "Mount Everest\n",
      "K2\n",
      "Kangchenjunga\n"
     ]
    }
   ],
   "source": [
    "for i in locations:\n",
    "    print(i[0])"
   ]
  },
  {
   "cell_type": "code",
   "execution_count": 108,
   "id": "6bc29ff5",
   "metadata": {},
   "outputs": [
    {
     "name": "stdout",
     "output_type": "stream",
     "text": [
      "{'Mount Everest': (27.9881, 86.925), 'K2': (35.8808, 76.5155), 'Kangchenjunga': (27.7025, 88.1475)}\n"
     ]
    }
   ],
   "source": [
    "lastdict = {}\n",
    "for item in locations:\n",
    "    key = item[0]\n",
    "    value = item[1:]\n",
    "    lastdict[key] = value\n",
    "\n",
    "print(lastdict)"
   ]
  },
  {
   "cell_type": "code",
   "execution_count": 109,
   "id": "e3afba22",
   "metadata": {},
   "outputs": [
    {
     "name": "stdout",
     "output_type": "stream",
     "text": [
      "(35.8808, 76.5155)\n"
     ]
    }
   ],
   "source": [
    "print(lastdict['K2'])"
   ]
  }
 ],
 "metadata": {
  "kernelspec": {
   "display_name": "geo",
   "language": "python",
   "name": "python3"
  },
  "language_info": {
   "codemirror_mode": {
    "name": "ipython",
    "version": 3
   },
   "file_extension": ".py",
   "mimetype": "text/x-python",
   "name": "python",
   "nbconvert_exporter": "python",
   "pygments_lexer": "ipython3",
   "version": "3.11.11"
  }
 },
 "nbformat": 4,
 "nbformat_minor": 5
}
