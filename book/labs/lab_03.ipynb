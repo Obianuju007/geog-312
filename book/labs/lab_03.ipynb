{
 "cells": [
  {
   "cell_type": "markdown",
   "id": "0",
   "metadata": {},
   "source": [
    "# Lab 3\n",
    "\n",
    "[![Open In Colab](https://colab.research.google.com/assets/colab-badge.svg)](https://colab.research.google.com/github/giswqs/geog-312/blob/main/book/labs/lab_03.ipynb)\n",
    "\n",
    "This notebook contains exercises based on the lectures on [**Functions and Classes**](https://geog-312.gishub.org/book/python/06_functions_classes.html) and [**Files and Exception Handling**](https://geog-312.gishub.org/book/python/07_files.html). These exercises will help reinforce the concepts of functions, classes, file handling, and exception management in geospatial contexts."
   ]
  },
  {
   "cell_type": "markdown",
   "id": "1",
   "metadata": {},
   "source": [
    "## Exercise 1: Calculating Distances with Functions\n",
    "\n",
    "- Define a function `calculate_distance` that takes two geographic coordinates (latitude and longitude) and returns the distance between them using the Haversine formula.\n",
    "- Use this function to calculate the distance between multiple pairs of coordinates."
   ]
  },
  {
   "cell_type": "code",
   "execution_count": 1,
   "id": "2",
   "metadata": {},
   "outputs": [],
   "source": [
    "from math import radians, sin, cos, sqrt, atan2"
   ]
  },
  {
   "cell_type": "code",
   "execution_count": 2,
   "id": "f0eb3202",
   "metadata": {},
   "outputs": [],
   "source": [
    "def calculate_distance(lat, lon, lat2, lon2):\n",
    "    r = 6371.0      # Radius of the Earth\n",
    "    dlat = radians(lat2 - lat)\n",
    "    dlon = radians(lon2 - lon)\n",
    "    a = (\n",
    "        sin(dlat/2)**2\n",
    "        + cos(radians(lat)) * cos(radians(lat2)) * sin(dlon/2)**2\n",
    "    ) \n",
    "    c = 2 * atan2(sqrt(a), sqrt(1 - a))\n",
    "    dist = r * c\n",
    "    return dist"
   ]
  },
  {
   "cell_type": "code",
   "execution_count": 4,
   "id": "03aa0d46",
   "metadata": {},
   "outputs": [
    {
     "name": "stdout",
     "output_type": "stream",
     "text": [
      "Distance: 5031.754 km\n"
     ]
    }
   ],
   "source": [
    "new_Dist = calculate_distance(45.8932, 72.8781, 29.8391, 17.9287)\n",
    "print (f\"Distance: {new_Dist:.3f} km\")"
   ]
  },
  {
   "cell_type": "markdown",
   "id": "3",
   "metadata": {},
   "source": [
    "## Exercise 2: Batch Distance Calculation\n",
    "\n",
    "- Create a function `batch_distance_calculation` that accepts a list of coordinate pairs and returns a list of distances between consecutive pairs.\n",
    "- Test the function with a list of coordinates representing several cities."
   ]
  },
  {
   "cell_type": "code",
   "execution_count": 7,
   "id": "4",
   "metadata": {},
   "outputs": [],
   "source": [
    "def batch_distance_calculation(coord_pairs):\n",
    "    newdistance = []\n",
    "    for i in range(len(coord_pairs) - 1):\n",
    "        lat1, lon1 = coord_pairs[i]\n",
    "        lat2, lon2 = coord_pairs[i + 1]\n",
    "        distance = calculate_distance(lat1, lon1, lat2, lon2)\n",
    "        newdistance.append(distance)\n",
    "    return newdistance"
   ]
  },
  {
   "cell_type": "code",
   "execution_count": 74,
   "id": "cd3bdefa",
   "metadata": {},
   "outputs": [
    {
     "name": "stdout",
     "output_type": "stream",
     "text": [
      "Distances is:  [6631.322383757005, 2387.075025187936]\n"
     ]
    }
   ],
   "source": [
    "coordinates = (37.9182, 98.8298), (26.2271, 28.12981), (45.8722, 17.2787)\n",
    "distance = batch_distance_calculation(coordinates)\n",
    "print(f\"Distances is:  {distance}\")"
   ]
  },
  {
   "cell_type": "markdown",
   "id": "5",
   "metadata": {},
   "source": [
    "## Exercise 3: Creating and Using a Point Class\n",
    "\n",
    "- Define a `Point` class to represent a geographic point with attributes `latitude`, `longitude`, and `name`.\n",
    "- Add a method `distance_to` that calculates the distance from one point to another.\n",
    "- Instantiate several `Point` objects and calculate the distance between them."
   ]
  },
  {
   "cell_type": "code",
   "execution_count": 11,
   "id": "6",
   "metadata": {},
   "outputs": [],
   "source": [
    "class point:\n",
    "    def __init__(self, latitude, longitude, name=None):\n",
    "        self.latitude = latitude\n",
    "        self.longitude = longitude\n",
    "        self.name = name\n",
    "    def distance_to(self, otherpoint):\n",
    "        return calculate_distance(self.latitude, self.longitude,otherpoint.latitude, otherpoint.longitude) "
   ]
  },
  {
   "cell_type": "code",
   "execution_count": 13,
   "id": "1ae63903",
   "metadata": {},
   "outputs": [
    {
     "name": "stdout",
     "output_type": "stream",
     "text": [
      "Distance from Brazil to Kuwait is 2223.1288470486493metres\n"
     ]
    }
   ],
   "source": [
    "point1 = point(68.6712, 12.2398, \"Brazil\")\n",
    "point2 = point(82.1289, 82.2819, \"Kuwait\")\n",
    "print(f\"Distance from {point1.name} to {point2.name} is {point1.distance_to(point2)}metres\")\n"
   ]
  },
  {
   "cell_type": "markdown",
   "id": "7",
   "metadata": {},
   "source": [
    "## Exercise 4: Reading and Writing Files\n",
    "- Write a function `read_coordinates` that reads a file containing a list of coordinates (latitude, longitude) and returns them as a list of tuples.\n",
    "- Write another function `write_coordinates` that takes a list of coordinates and writes them to a new file.\n",
    "- Ensure that both functions handle exceptions, such as missing files or improperly formatted data."
   ]
  },
  {
   "cell_type": "code",
   "execution_count": 57,
   "id": "10921a01",
   "metadata": {},
   "outputs": [
    {
     "data": {
      "text/plain": [
       "'c:\\\\Users\\\\EMAT MSI\\\\Documents\\\\geog-312-1\\\\book\\\\labs'"
      ]
     },
     "execution_count": 57,
     "metadata": {},
     "output_type": "execute_result"
    }
   ],
   "source": [
    "import os\n",
    "os.getcwd()"
   ]
  },
  {
   "cell_type": "code",
   "execution_count": 99,
   "id": "09241ad7",
   "metadata": {},
   "outputs": [
    {
     "name": "stdout",
     "output_type": "stream",
     "text": [
      "Error: Line contains invalid coordinates.\n",
      "[]\n"
     ]
    }
   ],
   "source": [
    "def read_coordinates(filename):\n",
    "    new_output = []\n",
    "    try:\n",
    "        with open(filename, \"r\") as m:\n",
    "            for line in m:\n",
    "                parts = line.strip().replace(',', \" \").split(',')\n",
    "                newlat = float(parts[0].strip())\n",
    "                newlon = float(parts[1].strip())\n",
    "                new_output.append((newlat, newlon))\n",
    "    except FileNotFoundError:\n",
    "        print(\"File doesn't exist!\")\n",
    "    except ValueError:\n",
    "        print(\"Error: Line contains invalid coordinates.\")\n",
    "    return new_output\n",
    "\n",
    "coord = read_coordinates('coordinates2.txt')\n",
    "print(coord)"
   ]
  },
  {
   "cell_type": "code",
   "execution_count": 96,
   "id": "93c21740",
   "metadata": {},
   "outputs": [
    {
     "name": "stdout",
     "output_type": "stream",
     "text": [
      "Raw line: '\\n'\n",
      "Error: Line doesn't contain exactly two coordinates: \n",
      "\n",
      "Raw line: '56.2772, 87.1762\\n'\n",
      "Raw line: '26.2681, 27.8172\\n'\n",
      "Raw line: '72.3762, 81.8287\\n'\n",
      "Raw line: '67.1828, 56.1279\\n'\n",
      "Raw line: '71.1271, 17.1828\\n'\n",
      "[(56.2772, 87.1762), (26.2681, 27.8172), (72.3762, 81.8287), (67.1828, 56.1279), (71.1271, 17.1828)]\n"
     ]
    }
   ],
   "source": [
    "def read_coordinates(filename):\n",
    "    new_output = []\n",
    "    try:\n",
    "        with open(filename, \"r\") as m:\n",
    "            for line in m:\n",
    "                print(f\"Raw line: {repr(line)}\")\n",
    "                # Strip any extra spaces and split by comma\n",
    "                parts = line.strip().split(',')\n",
    "                \n",
    "                # Ensure there are exactly two parts: latitude and longitude\n",
    "                if len(parts) == 2:\n",
    "                    try:\n",
    "                        new_lat = float(parts[0].strip())  # Convert latitude to float\n",
    "                        new_lon = float(parts[1].strip())  # Convert longitude to float\n",
    "                        new_output.append((new_lat, new_lon))  # Append as a tuple\n",
    "                    except ValueError:\n",
    "                        print(f\"Error: Invalid number format in line: {line}\")\n",
    "                else:\n",
    "                    print(f\"Error: Line doesn't contain exactly two coordinates: {line}\")\n",
    "    except FileNotFoundError:\n",
    "        print(\"File doesn't exist!\")\n",
    "    \n",
    "    return new_output\n",
    "\n",
    "# Example usage\n",
    "coord = read_coordinates('coordinates2.txt')\n",
    "print(coord)"
   ]
  },
  {
   "cell_type": "code",
   "execution_count": null,
   "id": "e0459f7d",
   "metadata": {},
   "outputs": [],
   "source": []
  },
  {
   "cell_type": "code",
   "execution_count": 82,
   "id": "8",
   "metadata": {},
   "outputs": [
    {
     "name": "stdout",
     "output_type": "stream",
     "text": [
      "file has been created successfully\n"
     ]
    },
    {
     "data": {
      "text/plain": [
       "'\\n56.2772, 87.1762\\n26.2681, 27.8172\\n72.3762, 81.8287\\n67.1828, 56.1279\\n71.1271, 17.1828\\n'"
      ]
     },
     "execution_count": 82,
     "metadata": {},
     "output_type": "execute_result"
    }
   ],
   "source": [
    "sample_data = \"\"\"\n",
    "56.2772, 87.1762\n",
    "26.2681, 27.8172\n",
    "72.3762, 81.8287\n",
    "67.1828, 56.1279\n",
    "71.1271, 17.1828\n",
    "\"\"\"\n",
    "output_file = \"coordinates2.txt\"\n",
    "\n",
    "def write_coordinates():    \n",
    "    with open(output_file, 'w') as file:\n",
    "        file.write(sample_data)\n",
    "        print(\"file has been created successfully\")\n",
    "    return sample_data\n",
    "\n",
    "write_coordinates()"
   ]
  },
  {
   "cell_type": "markdown",
   "id": "9",
   "metadata": {},
   "source": [
    "## Exercise 5: Processing Coordinates from a File\n",
    "\n",
    "- Create a function that reads coordinates from a file and uses the `Point` class to create `Point` objects.\n",
    "- Calculate the distance between each consecutive pair of points and write the results to a new file.\n",
    "- Ensure the function handles file-related exceptions and gracefully handles improperly formatted lines."
   ]
  },
  {
   "cell_type": "code",
   "execution_count": null,
   "id": "10",
   "metadata": {},
   "outputs": [],
   "source": [
    "# Create a sample coordinates.txt file\n",
    "sample_data = \"\"\"35.6895,139.6917\n",
    "34.0522,-118.2437\n",
    "51.5074,-0.1278\n",
    "-33.8688,151.2093\n",
    "48.8566,2.3522\"\"\"\n",
    "\n",
    "output_file = \"coordinates.txt\"\n",
    "\n",
    "try:\n",
    "    with open(output_file, \"w\") as file:\n",
    "        file.write(sample_data)\n",
    "    print(f\"Sample file '{output_file}' has been created successfully.\")\n",
    "except Exception as e:\n",
    "    print(f\"An error occurred while creating the file: {e}\")"
   ]
  },
  {
   "cell_type": "code",
   "execution_count": null,
   "id": "11",
   "metadata": {},
   "outputs": [],
   "source": []
  },
  {
   "cell_type": "markdown",
   "id": "12",
   "metadata": {},
   "source": [
    "## Exercise 6: Exception Handling in Data Processing\n",
    "\n",
    "- Modify the `batch_distance_calculation` function to handle exceptions that might occur during the calculation, such as invalid coordinates.\n",
    "- Ensure the function skips invalid data and continues processing the remaining data."
   ]
  },
  {
   "cell_type": "code",
   "execution_count": null,
   "id": "13",
   "metadata": {},
   "outputs": [],
   "source": []
  }
 ],
 "metadata": {
  "kernelspec": {
   "display_name": "geo",
   "language": "python",
   "name": "python3"
  },
  "language_info": {
   "codemirror_mode": {
    "name": "ipython",
    "version": 3
   },
   "file_extension": ".py",
   "mimetype": "text/x-python",
   "name": "python",
   "nbconvert_exporter": "python",
   "pygments_lexer": "ipython3",
   "version": "3.11.11"
  }
 },
 "nbformat": 4,
 "nbformat_minor": 5
}
