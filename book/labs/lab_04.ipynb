{
 "cells": [
  {
   "cell_type": "markdown",
   "metadata": {},
   "source": [
    "# Lab 4\n",
    "\n",
    "[![Open In Colab](https://colab.research.google.com/assets/colab-badge.svg)](https://colab.research.google.com/github/giswqs/geog-312/blob/main/book/labs/lab_04.ipynb)\n",
    "\n",
    "This lab will help you solidify your understanding of working with `NumPy`, `Pandas`, and `GeoPandas` for geospatial data analysis. Through these exercises, you will perform data manipulation, spatial analysis, and visualizations by combining these powerful libraries."
   ]
  },
  {
   "cell_type": "markdown",
   "metadata": {},
   "source": [
    "## Exercise 1: NumPy Array Operations and Geospatial Coordinates\n",
    "\n",
    "In this exercise, you will work with NumPy arrays representing geospatial coordinates (latitude and longitude) and perform basic array operations.\n",
    "\n",
    "1. Create a 2D NumPy array containing the latitude and longitude of the following cities: Tokyo (35.6895, 139.6917), New York (40.7128, -74.0060), London (51.5074, -0.1278), and Paris (48.8566, 2.3522).\n",
    "2. Convert the latitude and longitude values from degrees to radians using np.radians().\n",
    "3. Calculate the element-wise difference between Tokyo and the other cities' latitude and longitude in radians."
   ]
  },
  {
   "cell_type": "code",
   "execution_count": 1,
   "metadata": {},
   "outputs": [],
   "source": [
    "import numpy as np"
   ]
  },
  {
   "cell_type": "code",
   "execution_count": 6,
   "metadata": {},
   "outputs": [
    {
     "name": "stdout",
     "output_type": "stream",
     "text": [
      "[[ 6.22899283e-01  2.43808010e+00]\n",
      " [ 7.10572408e-01 -1.36146154e+00]\n",
      " [ 8.98973719e-01 -2.23053078e-03]\n",
      " [ 8.52708531e-01  4.10536347e-02]]\n"
     ]
    }
   ],
   "source": [
    "arr_2d = np.array([[35.6895, 139.6917], [40.7128, -78.0060], [51.5074, -0.1278], [48.8566, 2.3522]])\n",
    "conv_arr = np.radians(arr_2d)\n",
    "print (conv_arr)"
   ]
  },
  {
   "cell_type": "code",
   "execution_count": 8,
   "metadata": {},
   "outputs": [
    {
     "data": {
      "text/plain": [
       "array([ 35.6895, 139.6917])"
      ]
     },
     "execution_count": 8,
     "metadata": {},
     "output_type": "execute_result"
    }
   ],
   "source": [
    "arr_2d[0]"
   ]
  },
  {
   "cell_type": "code",
   "execution_count": 10,
   "metadata": {},
   "outputs": [
    {
     "name": "stdout",
     "output_type": "stream",
     "text": [
      "[[ 0.          0.        ]\n",
      " [-0.08767312  3.79954164]\n",
      " [-0.27607444  2.44031063]\n",
      " [-0.22980925  2.39702647]]\n"
     ]
    }
   ],
   "source": [
    "tokyo_arr = arr_2d[0]\n",
    "\n",
    "for i in arr_2d:\n",
    "    for element in i:\n",
    "        calc = np.radians(tokyo_arr - arr_2d)\n",
    "    \n",
    "print(calc)\n"
   ]
  },
  {
   "cell_type": "markdown",
   "metadata": {},
   "source": [
    "## Exercise 2: Pandas DataFrame Operations with Geospatial Data\n",
    "\n",
    "In this exercise, you'll use Pandas to load and manipulate a dataset containing city population data, and then calculate and visualize statistics.\n",
    "\n",
    "1. Load the world cities dataset from this URL using Pandas: https://github.com/opengeos/datasets/releases/download/world/world_cities.csv\n",
    "2. Display the first 5 rows and check for missing values.\n",
    "3. Filter the dataset to only include cities with a population greater than 1 million.\n",
    "4. Group the cities by their country and calculate the total population for each country.\n",
    "5. Sort the cities by population in descending order and display the top 10 cities."
   ]
  },
  {
   "cell_type": "code",
   "execution_count": 13,
   "metadata": {},
   "outputs": [],
   "source": [
    "import pandas as pd"
   ]
  },
  {
   "cell_type": "code",
   "execution_count": 16,
   "metadata": {},
   "outputs": [
    {
     "data": {
      "text/html": [
       "<div>\n",
       "<style scoped>\n",
       "    .dataframe tbody tr th:only-of-type {\n",
       "        vertical-align: middle;\n",
       "    }\n",
       "\n",
       "    .dataframe tbody tr th {\n",
       "        vertical-align: top;\n",
       "    }\n",
       "\n",
       "    .dataframe thead th {\n",
       "        text-align: right;\n",
       "    }\n",
       "</style>\n",
       "<table border=\"1\" class=\"dataframe\">\n",
       "  <thead>\n",
       "    <tr style=\"text-align: right;\">\n",
       "      <th></th>\n",
       "      <th>id</th>\n",
       "      <th>name</th>\n",
       "      <th>country</th>\n",
       "      <th>latitude</th>\n",
       "      <th>longitude</th>\n",
       "      <th>population</th>\n",
       "    </tr>\n",
       "  </thead>\n",
       "  <tbody>\n",
       "    <tr>\n",
       "      <th>0</th>\n",
       "      <td>1</td>\n",
       "      <td>Bombo</td>\n",
       "      <td>UGA</td>\n",
       "      <td>0.5833</td>\n",
       "      <td>32.5333</td>\n",
       "      <td>75000</td>\n",
       "    </tr>\n",
       "    <tr>\n",
       "      <th>1</th>\n",
       "      <td>2</td>\n",
       "      <td>Fort Portal</td>\n",
       "      <td>UGA</td>\n",
       "      <td>0.6710</td>\n",
       "      <td>30.2750</td>\n",
       "      <td>42670</td>\n",
       "    </tr>\n",
       "    <tr>\n",
       "      <th>2</th>\n",
       "      <td>3</td>\n",
       "      <td>Potenza</td>\n",
       "      <td>ITA</td>\n",
       "      <td>40.6420</td>\n",
       "      <td>15.7990</td>\n",
       "      <td>69060</td>\n",
       "    </tr>\n",
       "    <tr>\n",
       "      <th>3</th>\n",
       "      <td>4</td>\n",
       "      <td>Campobasso</td>\n",
       "      <td>ITA</td>\n",
       "      <td>41.5630</td>\n",
       "      <td>14.6560</td>\n",
       "      <td>50762</td>\n",
       "    </tr>\n",
       "    <tr>\n",
       "      <th>4</th>\n",
       "      <td>5</td>\n",
       "      <td>Aosta</td>\n",
       "      <td>ITA</td>\n",
       "      <td>45.7370</td>\n",
       "      <td>7.3150</td>\n",
       "      <td>34062</td>\n",
       "    </tr>\n",
       "  </tbody>\n",
       "</table>\n",
       "</div>"
      ],
      "text/plain": [
       "   id         name country  latitude  longitude  population\n",
       "0   1        Bombo     UGA    0.5833    32.5333       75000\n",
       "1   2  Fort Portal     UGA    0.6710    30.2750       42670\n",
       "2   3      Potenza     ITA   40.6420    15.7990       69060\n",
       "3   4   Campobasso     ITA   41.5630    14.6560       50762\n",
       "4   5        Aosta     ITA   45.7370     7.3150       34062"
      ]
     },
     "execution_count": 16,
     "metadata": {},
     "output_type": "execute_result"
    }
   ],
   "source": [
    "url = \"https://github.com/opengeos/datasets/releases/download/world/world_cities.csv\"\n",
    "df = pd.read_csv(url)\n",
    "df.head()"
   ]
  },
  {
   "cell_type": "code",
   "execution_count": 20,
   "metadata": {},
   "outputs": [
    {
     "name": "stdout",
     "output_type": "stream",
     "text": [
      "        id            name country  latitude  longitude  population\n",
      "97      98           Turin     ITA  45.07039    7.66996     1652000\n",
      "103    104           Lille     FRA  50.64997    3.08001     1044000\n",
      "123    124  San Bernardino     USA  34.12038 -117.30003     1745000\n",
      "124    125      Bridgeport     USA  41.17998  -73.19996     1018000\n",
      "126    127      Manchester     GBR  53.50042   -2.24799     2230000\n",
      "...    ...             ...     ...       ...        ...         ...\n",
      "1244  1245  Rio de Janeiro     BRA -22.92502  -43.22502    11748000\n",
      "1245  1246       Sao Paulo     BRA -23.55868  -46.62502    18845000\n",
      "1246  1247          Sydney     AUS -33.92001  151.18518     4630000\n",
      "1247  1248       Singapore     SGP   1.29303  103.85582     5183700\n",
      "1248  1249       Hong Kong     CHN  22.30498  114.18501     7206000\n",
      "\n",
      "[392 rows x 6 columns]\n"
     ]
    }
   ],
   "source": [
    "new_df = df[df['population'] > 1000000]\n",
    "print(new_df)"
   ]
  },
  {
   "cell_type": "code",
   "execution_count": 24,
   "metadata": {},
   "outputs": [
    {
     "name": "stdout",
     "output_type": "stream",
     "text": [
      "country\n",
      "AFG     4931702\n",
      "AGO     6821544\n",
      "ALB      895350\n",
      "ALD       10682\n",
      "AND       53998\n",
      "         ...   \n",
      "WSM       61916\n",
      "YEM     3759000\n",
      "ZAF    13373789\n",
      "ZMB     2326947\n",
      "ZWE     2611745\n",
      "Name: population, Length: 200, dtype: int64\n"
     ]
    }
   ],
   "source": [
    "df_grouped = df.groupby('country')['population'].sum()\n",
    "print(df_grouped)"
   ]
  },
  {
   "cell_type": "code",
   "execution_count": 28,
   "metadata": {},
   "outputs": [
    {
     "data": {
      "text/plain": [
       "name\n",
       "Tokyo           35676000\n",
       "New York        19040000\n",
       "Mexico City     19028000\n",
       "Mumbai          18978000\n",
       "Sao Paulo       18845000\n",
       "Delhi           15926000\n",
       "Shanghai        14987000\n",
       "Kolkata         14787000\n",
       "Dhaka           12797394\n",
       "Buenos Aires    12795000\n",
       "Name: population, dtype: int64"
      ]
     },
     "execution_count": 28,
     "metadata": {},
     "output_type": "execute_result"
    }
   ],
   "source": [
    "df_filter = df.groupby('name')['population'].sum().sort_values(ascending=False)\n",
    "df_filter.head(10)"
   ]
  },
  {
   "cell_type": "markdown",
   "metadata": {},
   "source": [
    "## Exercise 3: Creating and Manipulating GeoDataFrames with GeoPandas\n",
    "\n",
    "This exercise focuses on creating and manipulating GeoDataFrames, performing spatial operations, and visualizing the data.\n",
    "\n",
    "1. Load the New York City building dataset from the GeoJSON file using GeoPandas: https://github.com/opengeos/datasets/releases/download/places/nyc_buildings.geojson\n",
    "2. Create a plot of the building footprints and color them based on the building height (use the `height_MS` column).\n",
    "3. Create an interactive map of the building footprints and color them based on the building height (use the `height_MS` column).\n",
    "4. Calculate the average building height (use the `height_MS` column).\n",
    "5. Select buildings with a height greater than the average height.\n",
    "6. Save the GeoDataFrame to a new GeoJSON file."
   ]
  },
  {
   "cell_type": "code",
   "execution_count": null,
   "metadata": {},
   "outputs": [],
   "source": [
    "url = \"https://github.com/opengeos/datasets/releases/download/places/nyc_buildings.geojson\"\n"
   ]
  },
  {
   "cell_type": "markdown",
   "metadata": {},
   "source": [
    "## Exercise 4: Combining NumPy, Pandas, and GeoPandas\n",
    "\n",
    "This exercise requires you to combine the power of NumPy, Pandas, and GeoPandas to analyze and visualize spatial data.\n",
    "\n",
    "1. Use Pandas to load the world cities dataset from this URL: https://github.com/opengeos/datasets/releases/download/world/world_cities.csv\n",
    "2. Filter the dataset to include only cities with latitude values between -40 and 60 (i.e., cities located in the Northern Hemisphere or near the equator).\n",
    "3. Create a GeoDataFrame from the filtered dataset by converting the latitude and longitude into geometries.\n",
    "4. Reproject the GeoDataFrame to the Mercator projection (EPSG:3857).\n",
    "5. Calculate the distance (in meters) between each city and the city of Paris.\n",
    "6. Plot the cities on a world map, coloring the points by their distance from Paris."
   ]
  },
  {
   "cell_type": "code",
   "execution_count": null,
   "metadata": {},
   "outputs": [],
   "source": []
  }
 ],
 "metadata": {
  "kernelspec": {
   "display_name": "geo",
   "language": "python",
   "name": "python3"
  },
  "language_info": {
   "codemirror_mode": {
    "name": "ipython",
    "version": 3
   },
   "file_extension": ".py",
   "mimetype": "text/x-python",
   "name": "python",
   "nbconvert_exporter": "python",
   "pygments_lexer": "ipython3",
   "version": "3.11.11"
  }
 },
 "nbformat": 4,
 "nbformat_minor": 4
}
