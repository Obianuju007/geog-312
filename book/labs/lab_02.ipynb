{
 "cells": [
  {
   "cell_type": "markdown",
   "id": "0",
   "metadata": {},
   "source": [
    "# Lab 2\n",
    "\n",
    "[![Open In Colab](https://colab.research.google.com/assets/colab-badge.svg)](https://colab.research.google.com/github/giswqs/geog-312/blob/main/book/labs/lab_02.ipynb)\n",
    "\n",
    "This notebook contains exercises based on the lectures on [**String Operations**](https://geog-312.gishub.org/book/python/04_string_operations.html) and [**Looping and Control Statements**](https://geog-312.gishub.org/book/python/05_looping.html). These exercises will help reinforce the concepts of string manipulation, loops, and conditionals in geospatial contexts."
   ]
  },
  {
   "cell_type": "markdown",
   "id": "1",
   "metadata": {},
   "source": [
    "## Exercise 1: Manipulating Geographic Location Strings\n",
    "\n",
    "- Create a string that represents the name of a geographic feature (e.g., `\"Amazon River\"`).\n",
    "- Convert the string to lowercase and then to uppercase.\n",
    "- Concatenate the string with the name of the country (e.g., `\"Brazil\"`) to create a full location name.\n",
    "- Repeat the string three times, separating each repetition with a dash (`-`)."
   ]
  },
  {
   "cell_type": "code",
   "execution_count": 76,
   "id": "2",
   "metadata": {},
   "outputs": [
    {
     "name": "stdout",
     "output_type": "stream",
     "text": [
      "R-I-V-E-R- -N-I-G-E-R-,- -N-i-g-e-r-i-a-R-I-V-E-R- -N-I-G-E-R-,- -N-i-g-e-r-i-a-R-I-V-E-R- -N-I-G-E-R-,- -N-i-g-e-r-i-a\n"
     ]
    }
   ],
   "source": [
    "griver = \"River Niger\"\n",
    "griver = griver.lower()\n",
    "griver2 = griver.upper()\n",
    "griver3 = griver2 + \", Nigeria\" \n",
    "final = griver3 * 3\n",
    "separator = '-'\n",
    "print (separator.join(final))"
   ]
  },
  {
   "cell_type": "markdown",
   "id": "3",
   "metadata": {},
   "source": [
    "## Exercise 2: Extracting and Formatting Coordinates\n",
    "\n",
    "- Given a string with the format `\"latitude, longitude\"` (e.g., `\"40.7128N, 74.0060W\"`), extract the numeric values of latitude and longitude.\n",
    "- Convert these values to floats and remove the directional indicators (`N`, `S`, `E`, `W`).\n",
    "- Format the coordinates into a `POINT` WKT string (e.g., `\"POINT(-74.0060 40.7128)\"`)."
   ]
  },
  {
   "cell_type": "code",
   "execution_count": 32,
   "id": "4",
   "metadata": {},
   "outputs": [
    {
     "data": {
      "text/plain": [
       "'POINT(40.7128, 74.006)'"
      ]
     },
     "execution_count": 32,
     "metadata": {},
     "output_type": "execute_result"
    }
   ],
   "source": [
    "coord = \"40.7128N, 74.0060W\"\n",
    "lat_str, lon_str = coord.split(\", \")\n",
    "latitude = float(lat_str[:-1])\n",
    "longitude = float(lon_str[:-1])\n",
    "newpoint =  f\"POINT({latitude}, {longitude})\"\n",
    "newpoint"
   ]
  },
  {
   "cell_type": "markdown",
   "id": "5",
   "metadata": {},
   "source": [
    "## Exercise 3: Building Dynamic SQL Queries\n",
    "\n",
    "- Given a table name and a condition, dynamically build an SQL query string.\n",
    "- Example: If `table_name = \"cities\"` and `condition = \"population > 1000000\"`, the query should be `\"SELECT * FROM cities WHERE population > 1000000;\"`.\n",
    "- Add additional conditions dynamically, like `AND` clauses."
   ]
  },
  {
   "cell_type": "code",
   "execution_count": null,
   "id": "6",
   "metadata": {},
   "outputs": [],
   "source": [
    "select * from cities where population > 1000000 and Make = cddgcg"
   ]
  },
  {
   "cell_type": "markdown",
   "id": "7",
   "metadata": {},
   "source": [
    "## Exercise 4: String Normalization and Cleaning\n",
    "\n",
    "- Given a list of city names with inconsistent formatting (e.g., `[\" new york \", \"Los ANGELES\", \"   CHICAGO\"]`), normalize the names by:\n",
    "  - Stripping any leading or trailing whitespace.\n",
    "  - Converting them to title case (e.g., `\"New York\"`, `\"Los Angeles\"`, `\"Chicago\"`).\n",
    "- Ensure that the output is a clean list of city names."
   ]
  },
  {
   "cell_type": "code",
   "execution_count": 41,
   "id": "8",
   "metadata": {},
   "outputs": [],
   "source": [
    "city_names = [\"  new york\", \"Los ANGELES\", \" CHICAGO\", \"Lagos  \"]"
   ]
  },
  {
   "cell_type": "code",
   "execution_count": 46,
   "id": "514edb8e",
   "metadata": {},
   "outputs": [
    {
     "data": {
      "text/plain": [
       "['New York', 'Chicago', 'Lagos', 'Los Angeles']"
      ]
     },
     "execution_count": 46,
     "metadata": {},
     "output_type": "execute_result"
    }
   ],
   "source": [
    "new_names = [element.strip().title() for element in city_names]\n",
    "new_names    "
   ]
  },
  {
   "cell_type": "markdown",
   "id": "9",
   "metadata": {},
   "source": [
    "## Exercise 5: Parsing and Extracting Address Information\n",
    "\n",
    "- Given a string in the format `\"Street, City, Country\"` (e.g., `\"123 Main St, Springfield, USA\"`), write a function that parses the string into a dictionary with keys `street`, `city`, and `country`.\n",
    "- The function should return a dictionary like `{\"street\": \"123 Main St\", \"city\": \"Springfield\", \"country\": \"USA\"}`."
   ]
  },
  {
   "cell_type": "code",
   "execution_count": 94,
   "id": "10",
   "metadata": {},
   "outputs": [
    {
     "name": "stdout",
     "output_type": "stream",
     "text": [
      "{'Street': ' 82 Springfield', 'City': ' Lagos', 'Country': ' Nigeria'}\n"
     ]
    }
   ],
   "source": [
    "Address = \"82 Springfield, Lagos, Nigeria\"\n",
    "street, city, country = Address.split(\", \")\n",
    "newdict = (f\"Street: {street}, City: {city}, Country: {country}\")\n",
    "pairs = newdict.split(\", \")\n",
    "dict = {}\n",
    "for pair in pairs:\n",
    "    key, value = pair.split(\":\")\n",
    "    dict[key] = value\n",
    "print(dict)"
   ]
  },
  {
   "cell_type": "code",
   "execution_count": 95,
   "id": "0527a2e7",
   "metadata": {},
   "outputs": [
    {
     "data": {
      "text/plain": [
       "dict"
      ]
     },
     "execution_count": 95,
     "metadata": {},
     "output_type": "execute_result"
    }
   ],
   "source": [
    "type(dict)"
   ]
  },
  {
   "cell_type": "markdown",
   "id": "11",
   "metadata": {},
   "source": [
    "## Exercise 6: Using For Loops to Process Coordinate Lists\n",
    "\n",
    "- Create a list of tuples representing coordinates (latitude, longitude).\n",
    "- Write a `for` loop that prints each coordinate and indicates whether it is in the Northern or Southern Hemisphere based on the latitude."
   ]
  },
  {
   "cell_type": "code",
   "execution_count": 96,
   "id": "12",
   "metadata": {},
   "outputs": [
    {
     "name": "stdout",
     "output_type": "stream",
     "text": [
      "Latitude: 35.6895, Longitude: 139.6917\n",
      "Latitude: 34.0522, Longitude: -118.2437\n",
      "Latitude: 51.5074, Longitude: -0.1278\n"
     ]
    }
   ],
   "source": [
    "coordinates = [\n",
    "    (35.6895, 139.6917),\n",
    "    (34.0522, -118.2437),\n",
    "    (51.5074, -0.1278),\n",
    "]\n",
    "for lat, lon in coordinates:\n",
    "    print(f\"Latitude: {lat}, Longitude: {lon}\")"
   ]
  },
  {
   "cell_type": "code",
   "execution_count": 97,
   "id": "257d4a03",
   "metadata": {},
   "outputs": [
    {
     "name": "stdout",
     "output_type": "stream",
     "text": [
      "Northern Hemisphere\n",
      "Southern Hemisphere\n",
      "Southern Hemisphere\n"
     ]
    }
   ],
   "source": [
    "for lat, lon in coordinates: \n",
    "    if lon > 0:\n",
    "        print(\"Northern Hemisphere\")\n",
    "    else:\n",
    "        print(\"Southern Hemisphere\")"
   ]
  },
  {
   "cell_type": "markdown",
   "id": "13",
   "metadata": {},
   "source": [
    "## Exercise 7: While Loops for Iterative Processing\n",
    "\n",
    "- Create a list of coordinates (latitude, longitude).\n",
    "- Write a `while` loop that continues to print each coordinate until it encounters a coordinate with a negative latitude.\n",
    "- Stop the loop once this condition is met."
   ]
  },
  {
   "cell_type": "code",
   "execution_count": 100,
   "id": "14",
   "metadata": {},
   "outputs": [
    {
     "name": "stdout",
     "output_type": "stream",
     "text": [
      "None of the latitude is below zero\n",
      "None of the latitude is below zero\n",
      "None of the latitude is below zero\n"
     ]
    }
   ],
   "source": [
    "while True:\n",
    "    for lat, lon in coordinates:\n",
    "        if lat < 0:\n",
    "            print(f\"Latitude is: {lat} less than zero\")\n",
    "        else:\n",
    "            print(\"None of the latitude is below zero\")\n",
    "    break"
   ]
  },
  {
   "cell_type": "markdown",
   "id": "15",
   "metadata": {},
   "source": [
    "## Exercise 8: Conditional Logic in Loops\n",
    "\n",
    "- Create a list of coordinates and use a `for` loop to iterate over them.\n",
    "- Use an `if-elif-else` statement inside the loop to classify each coordinate based on its longitude:\n",
    "  - Print `\"Eastern Hemisphere\"` if the longitude is greater than 0.\n",
    "  - Print `\"Western Hemisphere\"` if the longitude is less than 0."
   ]
  },
  {
   "cell_type": "code",
   "execution_count": 102,
   "id": "16",
   "metadata": {},
   "outputs": [],
   "source": [
    "newcoord = [\n",
    "    (23.8729, -78.67276),\n",
    "    (-34.2379, 38.9020),\n",
    "    (92.2390, -28.7293),\n",
    "    (-47.8927, 12.8098),\n",
    "]"
   ]
  },
  {
   "cell_type": "code",
   "execution_count": 109,
   "id": "e65c25cc",
   "metadata": {},
   "outputs": [
    {
     "name": "stdout",
     "output_type": "stream",
     "text": [
      "Western Hemisphere\n",
      "Eastern Hemisphere\n",
      "Western Hemisphere\n",
      "Eastern Hemisphere\n"
     ]
    }
   ],
   "source": [
    "for lat, lon in newcoord:\n",
    "    if lon > 0:\n",
    "        print(\"Eastern Hemisphere\")\n",
    "    elif lon == 0:\n",
    "        print (\"Around the equator\")\n",
    "    else:\n",
    "        print(\"Western Hemisphere\")"
   ]
  },
  {
   "cell_type": "markdown",
   "id": "17",
   "metadata": {},
   "source": [
    "## Exercise 9: Filtering Data with Combined Loops and Conditionals\n",
    "\n",
    "- Given a list of coordinates, filter out and store only those located in the Southern Hemisphere (latitude < 0).\n",
    "- Count the number of coordinates that meet this condition and print the result."
   ]
  },
  {
   "cell_type": "code",
   "execution_count": 108,
   "id": "18",
   "metadata": {},
   "outputs": [
    {
     "name": "stdout",
     "output_type": "stream",
     "text": [
      "The number of coordinates in the southern hemisphere is 2\n"
     ]
    }
   ],
   "source": [
    "south_count = 0\n",
    "for lat, lon in newcoord:\n",
    "    if lat < 0:\n",
    "        south_count += 1\n",
    "print (f\"The number of coordinates in the southern hemisphere is {south_count}\")"
   ]
  },
  {
   "cell_type": "markdown",
   "id": "19",
   "metadata": {},
   "source": [
    "## Exercise 10: Generating and Analyzing Random Coordinates\n",
    "\n",
    "- Write a program that generates random coordinates (latitude between [-90, 90] degrees and longitude between [-180, 180] degrees).\n",
    "- Use a `while` loop to keep generating coordinates until a pair with both latitude and longitude greater than 50 is generated.\n",
    "- Print each generated coordinate and the final coordinate that meets the condition."
   ]
  },
  {
   "cell_type": "code",
   "execution_count": null,
   "id": "20",
   "metadata": {},
   "outputs": [],
   "source": []
  }
 ],
 "metadata": {
  "kernelspec": {
   "display_name": "geo",
   "language": "python",
   "name": "python3"
  },
  "language_info": {
   "codemirror_mode": {
    "name": "ipython",
    "version": 3
   },
   "file_extension": ".py",
   "mimetype": "text/x-python",
   "name": "python",
   "nbconvert_exporter": "python",
   "pygments_lexer": "ipython3",
   "version": "3.11.11"
  }
 },
 "nbformat": 4,
 "nbformat_minor": 5
}
